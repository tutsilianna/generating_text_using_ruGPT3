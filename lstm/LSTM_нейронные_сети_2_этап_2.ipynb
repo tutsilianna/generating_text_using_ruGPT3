{
  "cells": [
    {
      "cell_type": "markdown",
      "metadata": {
        "id": "view-in-github",
        "colab_type": "text"
      },
      "source": [
        "<a href=\"https://colab.research.google.com/github/tutsilianna/generating_text_using_ruGPT3/blob/main/lstm/LSTM_%D0%BD%D0%B5%D0%B8%CC%86%D1%80%D0%BE%D0%BD%D0%BD%D1%8B%D0%B5_%D1%81%D0%B5%D1%82%D0%B8_2_%D1%8D%D1%82%D0%B0%D0%BF_2.ipynb\" target=\"_parent\"><img src=\"https://colab.research.google.com/assets/colab-badge.svg\" alt=\"Open In Colab\"/></a>"
      ]
    },
    {
      "cell_type": "markdown",
      "metadata": {
        "id": "H8zSDjlpKbcG"
      },
      "source": [
        "### Подключение репозитория"
      ]
    },
    {
      "cell_type": "code",
      "execution_count": 1,
      "metadata": {
        "colab": {
          "base_uri": "https://localhost:8080/"
        },
        "id": "BARyXbt4JjC8",
        "outputId": "b035100d-dad9-4b58-ba12-037d4555d243"
      },
      "outputs": [
        {
          "output_type": "stream",
          "name": "stdout",
          "text": [
            "Cloning into 'generating_text_using_ruGPT3'...\n",
            "remote: Enumerating objects: 16, done.\u001b[K\n",
            "remote: Counting objects: 100% (16/16), done.\u001b[K\n",
            "remote: Compressing objects: 100% (14/14), done.\u001b[K\n",
            "remote: Total 16 (delta 2), reused 10 (delta 1), pack-reused 0 (from 0)\u001b[K\n",
            "Receiving objects: 100% (16/16), 1.79 MiB | 3.83 MiB/s, done.\n",
            "Resolving deltas: 100% (2/2), done.\n"
          ]
        }
      ],
      "source": [
        "! git clone https://github.com/tutsilianna/generating_text_using_ruGPT3.git"
      ]
    },
    {
      "cell_type": "markdown",
      "metadata": {
        "id": "nNqU85GQKm0m"
      },
      "source": [
        "### Необходимые библиотеки"
      ]
    },
    {
      "cell_type": "code",
      "execution_count": 2,
      "metadata": {
        "id": "FeSFuxAXKp7p"
      },
      "outputs": [],
      "source": [
        "import os\n",
        "import re\n",
        "import string\n",
        "\n",
        "import torch\n",
        "import torch.nn as nn\n",
        "from torch.nn import functional as F\n",
        "from torch.utils.data import Dataset, DataLoader\n",
        "from tqdm.notebook import tqdm\n",
        "\n",
        "import warnings\n",
        "import numpy as np\n",
        "import pandas as pd\n",
        "\n",
        "\n",
        "warnings.filterwarnings(\"ignore\")\n",
        "warnings.simplefilter(action='ignore', category=FutureWarning)"
      ]
    },
    {
      "cell_type": "code",
      "execution_count": 3,
      "metadata": {
        "id": "V9cwGraUM63S"
      },
      "outputs": [],
      "source": [
        "from transformers import GPT2Tokenizer\n",
        "from tokenizers import ByteLevelBPETokenizer\n",
        "import matplotlib.pyplot as plt\n",
        "from google.colab import drive"
      ]
    },
    {
      "cell_type": "code",
      "execution_count": 4,
      "metadata": {
        "colab": {
          "base_uri": "https://localhost:8080/"
        },
        "id": "b52P1hfZNeeL",
        "outputId": "7736bfa3-0237-4501-c5b8-1df8b8e728f4"
      },
      "outputs": [
        {
          "output_type": "execute_result",
          "data": {
            "text/plain": [
              "True"
            ]
          },
          "metadata": {},
          "execution_count": 4
        }
      ],
      "source": [
        "# First check to see if you have GPU or not\n",
        "torch.cuda.is_available()"
      ]
    },
    {
      "cell_type": "markdown",
      "metadata": {
        "id": "w1MJWhp9Ke_5"
      },
      "source": [
        "### Чтение данных"
      ]
    },
    {
      "cell_type": "code",
      "execution_count": 5,
      "metadata": {
        "colab": {
          "base_uri": "https://localhost:8080/"
        },
        "id": "RvYOSa2NKMiz",
        "outputId": "0d943089-2c14-46f5-f5b0-171608ae9190"
      },
      "outputs": [
        {
          "output_type": "execute_result",
          "data": {
            "text/plain": [
              "['Красота - моя кума: Всем мне - очень хороша! И добра, мила, приятна, Мне с тобою так отрадно!  С Днём рождения, родня! Ты - подруга для меня: Ты с отзывчивой душою, Будь всегда, кума, такою!  Будь здорова, весела!! Денежек тебе сполна: Чтоб хватало на все блага! Чтоб жила в красе, без страха!',\n",
              " 'Девятнадцатый сегодня день рожденья, Пожелать тебе хочу я в праздник твой, Будет крепким у тебя твое терпенье, И всегда удача мчится за тобой.  От души тебя, Родной мой, поздравляю, Целей всех тебе желаю достигать, И счастливым самым быть тебе желаю, И тебе любовь всем сердцем ощущать.',\n",
              " 'Счастья, радости, здоровья И богатства непременно, Пусть все то, о чем мечтаешь Исполняется мгновенно. Денег много получать, Чтобы тратить – не считать! Верь, что сбудется она, Твоя главная мечта!',\n",
              " 'Я очень благодарна папе, За то, что выбрал он тебя. Ты бесподобная хозяйка И безупречная жена. А для меня, родная мама, Ты осветишь любую ночь. Пока ты есть – не надо рая. Люблю! Целую! Твоя дочь!',\n",
              " 'Тебя я поздравляю, Мой сынок, Тебе счастливой жизни я желаю, На сердце, пусть, не будет, Сын, тревог, Живи ты, Мой сынок, не унывая.  Печали не тревожат, пусть, тебя, От жизни ощущай ты вдохновенье, Пусть светлой будет жизнь, Сынок, твоя, Тебя я поздравляю с днем рожденья.']"
            ]
          },
          "metadata": {},
          "execution_count": 5
        }
      ],
      "source": [
        "with open(\"/content/generating_text_using_ruGPT3/data/greetings.txt\", \"r\", encoding=\"utf-8\") as file:\n",
        "    lines = file.readlines()\n",
        "\n",
        "# Убираем символы новой строки из каждой строки\n",
        "texts = [line.strip() for line in lines]\n",
        "\n",
        "texts[:5]"
      ]
    },
    {
      "cell_type": "markdown",
      "metadata": {
        "id": "PWdeppVhK6av"
      },
      "source": [
        "### Предобработка"
      ]
    },
    {
      "cell_type": "code",
      "execution_count": 6,
      "metadata": {
        "id": "c3MtKBkJK3U7",
        "colab": {
          "base_uri": "https://localhost:8080/",
          "height": 160
        },
        "outputId": "33f60a7e-f247-4c6f-e209-45b850d29db6"
      },
      "outputs": [
        {
          "output_type": "execute_result",
          "data": {
            "text/plain": [
              "'красота  моя кума всем мне  очень хороша и добра мила приятна мне с тобою так отрадно  с днём рождения родня ты  подруга для меня ты с отзывчивой душою будь всегда кума такою  будь здорова весела денежек тебе сполна чтоб хватало на все блага чтоб жила в красе без страха девятнадцатый сегодня день рожденья пожелать тебе хочу я в праздник твой будет крепким у тебя твое терпенье и всегда удача мчится за тобой  от души тебя родной мой поздравляю целей всех тебе желаю достигать и счастливым самым быть тебе желаю и тебе любовь всем сердцем ощущать счастья радости здоровья и богатства непременно пусть все то о чем мечтаешь исполняется мгновенно денег много получать чтобы тратить  не считать верь что сбудется она твоя главная мечта я очень благодарна папе за то что выбрал он тебя ты бесподобная хозяйка и безупречная жена а для меня родная мама ты осветишь любую ночь пока ты есть  не надо рая люблю целую твоя дочь тебя я поздравляю мой сынок тебе счастливой жизни я желаю на сердце пусть не буде'"
            ],
            "application/vnd.google.colaboratory.intrinsic+json": {
              "type": "string"
            }
          },
          "metadata": {},
          "execution_count": 6
        }
      ],
      "source": [
        "def clean_text(input_text):\n",
        "    text = \"\".join(word for word in input_text if word not in string.punctuation).lower()\n",
        "    text = re.sub(r\"[^а-яё\\s0-9]\", \"\", text)\n",
        "    return text\n",
        "\n",
        "texts_join = ' '.join([clean_text(text) for text in texts])\n",
        "texts_join[:1000]"
      ]
    },
    {
      "cell_type": "markdown",
      "metadata": {
        "id": "SJsndnQtzrDZ"
      },
      "source": [
        "### `Character-Level ::: модель`"
      ]
    },
    {
      "cell_type": "markdown",
      "source": [
        "#### Tokenizer"
      ],
      "metadata": {
        "id": "rgzVHhk34txE"
      }
    },
    {
      "cell_type": "code",
      "execution_count": 7,
      "metadata": {
        "colab": {
          "base_uri": "https://localhost:8080/"
        },
        "id": "gUXey5qr19yc",
        "outputId": "fdea8497-6e93-4323-ba03-16dc8de4e92f"
      },
      "outputs": [
        {
          "output_type": "stream",
          "name": "stdout",
          "text": [
            "len(chars)=44\n",
            "len(encoded)=2643268\n"
          ]
        }
      ],
      "source": [
        "chars = tuple(set(texts_join))\n",
        "# print(chars)\n",
        "print(f'{len(chars)=}')\n",
        "int2char = dict(enumerate(chars))\n",
        "# print(int2char)\n",
        "char2int = {ch: ii for ii, ch in int2char.items()}\n",
        "encoded = np.array([char2int[ch] for ch in texts_join])\n",
        "print(f'{len(encoded)=}')"
      ]
    },
    {
      "cell_type": "code",
      "source": [
        "encoded[:100]"
      ],
      "metadata": {
        "colab": {
          "base_uri": "https://localhost:8080/"
        },
        "id": "QuSKIJ0l4rI1",
        "outputId": "9664adeb-b682-41f1-9b31-5d64625cab0d"
      },
      "execution_count": 8,
      "outputs": [
        {
          "output_type": "execute_result",
          "data": {
            "text/plain": [
              "array([10, 12,  1,  6, 25, 16,  1,  7,  7,  2, 25, 29,  7, 10, 18,  2,  1,\n",
              "        7, 34,  6, 30,  2,  7,  2, 36, 30,  7,  7, 25, 20, 30, 36,  5,  7,\n",
              "       31, 25, 12, 25, 35,  1,  7, 41,  7, 38, 25, 11, 12,  1,  7,  2, 41,\n",
              "       13,  1,  7, 23, 12, 41, 29, 16, 36,  1,  7,  2, 36, 30,  7,  6,  7,\n",
              "       16, 25, 11, 25, 14,  7, 16,  1, 10,  7, 25, 16, 12,  1, 38, 36, 25,\n",
              "        7,  7,  6,  7, 38, 36, 37,  2,  7, 12, 25, 32, 38, 30, 36])"
            ]
          },
          "metadata": {},
          "execution_count": 8
        }
      ]
    },
    {
      "cell_type": "markdown",
      "source": [
        "#### Pre-processing the data"
      ],
      "metadata": {
        "id": "oynW4sEh40eV"
      }
    },
    {
      "cell_type": "code",
      "source": [
        "def one_hot_encode(arr, n_labels):\n",
        "    one_hot = np.zeros((np.multiply(*arr.shape), n_labels), dtype=np.float32)\n",
        "    one_hot[np.arange(one_hot.shape[0]), arr.flatten()] = 1.\n",
        "    one_hot = one_hot.reshape((*arr.shape, n_labels))\n",
        "\n",
        "    return one_hot"
      ],
      "metadata": {
        "id": "2PQyrZVW45g9"
      },
      "execution_count": 9,
      "outputs": []
    },
    {
      "cell_type": "code",
      "source": [
        "def get_batches(arr, n_seqs, n_steps):\n",
        "    '''Create a generator that returns batches of size\n",
        "       n_seqs x n_steps from arr.\n",
        "\n",
        "       Arguments\n",
        "       ---------\n",
        "       arr: Array you want to make batches from\n",
        "       n_seqs: Batch size, the number of sequences per batch\n",
        "       n_steps: Number of sequence steps per batch\n",
        "    '''\n",
        "\n",
        "    batch_size = n_seqs * n_steps\n",
        "    n_batches = len(arr)//batch_size\n",
        "    arr = arr[:int(n_batches*batch_size)]\n",
        "\n",
        "    arr = np.reshape(arr, (n_seqs,-1))\n",
        "\n",
        "    for n in range(0, arr.shape[1], n_steps):\n",
        "        x = arr[:,n:n+n_steps]\n",
        "        y = np.zeros_like(x)\n",
        "        try:\n",
        "            y[:, :-1], y[:, -1] = x[:, 1:], arr[:, n+n_steps]\n",
        "        except IndexError:\n",
        "            y[:, :-1], y[:, -1] = x[:, 1:], arr[:, 0]\n",
        "\n",
        "        yield x, y"
      ],
      "metadata": {
        "id": "3Brwd3oC4-2O"
      },
      "execution_count": 10,
      "outputs": []
    },
    {
      "cell_type": "code",
      "source": [
        "class CharLSTM(nn.Module):\n",
        "\n",
        "    def __init__(self, tokens, n_steps=100, n_hidden=256, n_layers=2,\n",
        "                               drop_prob=0.5, lr=0.001):\n",
        "        super().__init__()\n",
        "        self.drop_prob = drop_prob\n",
        "        self.n_layers = n_layers\n",
        "        self.n_hidden = n_hidden\n",
        "        self.lr = lr\n",
        "\n",
        "        self.chars = tokens\n",
        "        self.int2char = dict(enumerate(self.chars))\n",
        "        self.char2int = {ch: ii for ii, ch in self.int2char.items()}\n",
        "\n",
        "        # define the LSTM, self.lstm\n",
        "        self.lstm = nn.LSTM(len(self.chars), n_hidden, n_layers, dropout=drop_prob, batch_first=True)\n",
        "        # input is a one_hot vector over the unique 83 characters (len(chars))\n",
        "\n",
        "        # define a dropout layer, self.dropout\n",
        "        self.dropout = nn.Dropout(drop_prob)\n",
        "\n",
        "        # define the final, fully-connected output layer, self.fc\n",
        "        self.fc = nn.Linear(n_hidden, len(self.chars))\n",
        "\n",
        "        # initialize the weights\n",
        "        self.init_weights()\n",
        "\n",
        "    def forward(self, x, hc):\n",
        "        ''' Forward pass through the network.\n",
        "            These inputs are x, and the hidden/cell state `hc`. '''\n",
        "\n",
        "        # Get x, and the new hidden state (h, c) from the lstm\n",
        "        lstm_out, (h, c) = self.lstm(x, hc)\n",
        "\n",
        "        # stack up LSTM outputs\n",
        "        x = lstm_out.contiguous()\n",
        "\n",
        "        # pass x through a droupout layer\n",
        "        x = self.dropout(x)\n",
        "\n",
        "        # Stack up LSTM outputs using view\n",
        "        x = x.view(-1, self.n_hidden)\n",
        "\n",
        "        # put x through the fully-connected layer\n",
        "        x = self.fc(x)\n",
        "\n",
        "        # return x and the hidden state (h, c)\n",
        "        return x, (h, c)\n",
        "\n",
        "    def predict(self, char, h=None, cuda=False, top_k=None):\n",
        "        ''' Given a character, predict the next character.\n",
        "\n",
        "            Returns the predicted character and the hidden state.\n",
        "        '''\n",
        "        if cuda:\n",
        "            self.cuda()\n",
        "        else:\n",
        "            self.cpu()\n",
        "\n",
        "        if h is None:\n",
        "            h = self.init_hidden(1)\n",
        "\n",
        "        x = np.array([[self.char2int[char]]])\n",
        "        x = one_hot_encode(x, len(self.chars))\n",
        "        inputs = torch.from_numpy(x)\n",
        "        if cuda:\n",
        "            inputs = inputs.cuda()\n",
        "\n",
        "        h = tuple([each.data for each in h])\n",
        "        out, h = self.forward(inputs, h)\n",
        "\n",
        "        p = F.softmax(out, dim=1).data\n",
        "        if cuda:\n",
        "            p = p.cpu()\n",
        "\n",
        "        if top_k is None:\n",
        "            top_ch = np.arange(len(self.chars))\n",
        "        else:\n",
        "            p, top_ch = p.topk(top_k)\n",
        "            top_ch = top_ch.numpy().squeeze()\n",
        "\n",
        "        p = p.numpy().squeeze()\n",
        "        char = np.random.choice(top_ch, p=p/p.sum())\n",
        "\n",
        "        return self.int2char[char], h\n",
        "\n",
        "    def init_weights(self):\n",
        "        ''' Initialize weights for fully connected layer '''\n",
        "        initrange = 0.1\n",
        "\n",
        "        # Set bias tensor to all zeros\n",
        "        self.fc.bias.data.fill_(0)\n",
        "        # FC weights as random uniform\n",
        "        self.fc.weight.data.uniform_(-1, 1)\n",
        "\n",
        "    def init_hidden(self, n_seqs):\n",
        "        ''' Initializes hidden state '''\n",
        "        # Create two new tensors with sizes n_layers x n_seqs x n_hidden,\n",
        "        # initialized to zero, for hidden state and cell state of LSTM\n",
        "        weight = next(self.parameters()).data\n",
        "        return (weight.new(self.n_layers, n_seqs, self.n_hidden).zero_(),\n",
        "                weight.new(self.n_layers, n_seqs, self.n_hidden).zero_())"
      ],
      "metadata": {
        "id": "chiTxixt6YYe"
      },
      "execution_count": 12,
      "outputs": []
    },
    {
      "cell_type": "code",
      "source": [
        "# import os\n",
        "# import requests\n",
        "# import time\n",
        "\n",
        "# def train(net, data, epochs=10, n_seqs=10, n_steps=50, lr=0.001, clip=5, val_frac=0.1, cuda=False, print_every=10):\n",
        "#     ''' Training a network\n",
        "\n",
        "#         Arguments\n",
        "#         ---------\n",
        "\n",
        "#         net: CharRNN network\n",
        "#         data: text data to train the network\n",
        "#         epochs: Number of epochs to train\n",
        "#         n_seqs: Number of mini-sequences per mini-batch, aka batch size\n",
        "#         n_steps: Number of character steps per mini-batch\n",
        "#         lr: learning rate\n",
        "#         clip: gradient clipping\n",
        "#         val_frac: Fraction of data to hold out for validation\n",
        "#         cuda: Train with CUDA on a GPU\n",
        "#         print_every: Number of steps for printing training and validation loss\n",
        "\n",
        "#     '''\n",
        "\n",
        "#     net.train()\n",
        "#     opt = torch.optim.Adam(net.parameters(), lr=lr)\n",
        "#     criterion = nn.CrossEntropyLoss()\n",
        "\n",
        "#     # create training and validation data\n",
        "#     val_idx = int(len(data)*(1-val_frac))\n",
        "#     data, val_data = data[:val_idx], data[val_idx:]\n",
        "\n",
        "#     if cuda:\n",
        "#         net.cuda()\n",
        "\n",
        "#     counter = 0\n",
        "#     n_chars = len(net.chars)\n",
        "\n",
        "#     old_time = time.time()\n",
        "\n",
        "#     for e in range(epochs):\n",
        "#         h = net.init_hidden(n_seqs)\n",
        "#         for x, y in get_batches(data, n_seqs, n_steps):\n",
        "\n",
        "#             # if time.time() - old_time > 60:\n",
        "#             #     old_time = time.time()\n",
        "#             #     requests.request(\"POST\",\n",
        "#             #                      \"https://nebula.udacity.com/api/v1/remote/keep-alive\",\n",
        "#             #                      headers={'Authorization': \"STAR \" + response.text})\n",
        "\n",
        "#             counter += 1\n",
        "\n",
        "#             # One-hot encode our data and make them Torch tensors\n",
        "#             x = one_hot_encode(x, n_chars)\n",
        "#             inputs, targets = torch.from_numpy(x), torch.from_numpy(y)\n",
        "\n",
        "#             if cuda:\n",
        "#                 inputs, targets = inputs.cuda(), targets.cuda()\n",
        "\n",
        "#             # Creating new variables for the hidden state, otherwise\n",
        "#             # we'd backprop through the entire training history\n",
        "#             h = tuple([each.data for each in h])\n",
        "\n",
        "#             net.zero_grad()\n",
        "\n",
        "#             output, h = net.forward(inputs, h)\n",
        "\n",
        "#             loss = criterion(output, targets.view(n_seqs*n_steps))\n",
        "\n",
        "#             loss.backward()\n",
        "\n",
        "#             # `clip_grad_norm` helps prevent the exploding gradient problem in RNNs / LSTMs.\n",
        "#             nn.utils.clip_grad_norm_(net.parameters(), clip)\n",
        "\n",
        "#             opt.step()\n",
        "\n",
        "#             if counter % print_every == 0:\n",
        "#                 # Get validation loss\n",
        "#                 val_h = net.init_hidden(n_seqs)\n",
        "#                 val_losses = []\n",
        "#                 for x, y in get_batches(val_data, n_seqs, n_steps):\n",
        "#                     # One-hot encode our data and make them Torch tensors\n",
        "#                     x = one_hot_encode(x, n_chars)\n",
        "#                     x, y = torch.from_numpy(x), torch.from_numpy(y)\n",
        "\n",
        "#                     # Creating new variables for the hidden state, otherwise\n",
        "#                     # we'd backprop through the entire training history\n",
        "#                     val_h = tuple([each.data for each in val_h])\n",
        "\n",
        "#                     inputs, targets = x, y\n",
        "\n",
        "#                     if cuda:\n",
        "#                         inputs, targets = inputs.cuda(), targets.cuda()\n",
        "\n",
        "#                     output, val_h = net.forward(inputs, val_h)\n",
        "\n",
        "#                     val_loss = criterion(output, targets.view(n_seqs*n_steps))\n",
        "\n",
        "#                     val_losses.append(val_loss.item())\n",
        "\n",
        "#                 print(\"Epoch: {}/{}...\".format(e+1, epochs),\n",
        "#                       \"Step: {}...\".format(counter),\n",
        "#                       \"Loss: {:.4f}...\".format(loss.item()),\n",
        "#                       \"Val Loss: {:.4f}\".format(np.mean(val_losses)))"
      ],
      "metadata": {
        "id": "Pjc99y7b61rj"
      },
      "execution_count": null,
      "outputs": []
    },
    {
      "cell_type": "code",
      "source": [
        "# def train(net, data, epochs=10, n_seqs=10, n_steps=50, lr=0.001, clip=5,\n",
        "#           val_frac=0.1, cuda=False, print_every=10):\n",
        "\n",
        "#     net.train()\n",
        "#     opt = torch.optim.Adam(net.parameters(), lr=lr)\n",
        "#     criterion = nn.CrossEntropyLoss()\n",
        "\n",
        "#     # create training and validation data\n",
        "#     val_idx = int(len(data)*(1-val_frac))\n",
        "#     data, val_data = data[:val_idx], data[val_idx:]\n",
        "\n",
        "#     if cuda:\n",
        "#         net.cuda()\n",
        "\n",
        "#     counter = 0\n",
        "#     n_chars = len(net.chars)\n",
        "\n",
        "#     # Списки для хранения значений лосс и перплексии\n",
        "#     train_losses, val_losses, perplexities = [], [], []\n",
        "\n",
        "#     for e in range(epochs):\n",
        "#         h = net.init_hidden(n_seqs)\n",
        "#         for x, y in get_batches(data, n_seqs, n_steps):\n",
        "\n",
        "#             counter += 1\n",
        "\n",
        "#             # One-hot encode our data and make them Torch tensors\n",
        "#             x = one_hot_encode(x, n_chars)\n",
        "#             inputs, targets = torch.from_numpy(x), torch.from_numpy(y)\n",
        "\n",
        "#             if cuda:\n",
        "#                 inputs, targets = inputs.cuda(), targets.cuda()\n",
        "\n",
        "#             h = tuple([each.data for each in h])\n",
        "\n",
        "#             net.zero_grad()\n",
        "\n",
        "#             output, h = net.forward(inputs, h)\n",
        "\n",
        "#             loss = criterion(output, targets.view(n_seqs*n_steps))\n",
        "\n",
        "#             loss.backward()\n",
        "\n",
        "#             nn.utils.clip_grad_norm_(net.parameters(), clip)\n",
        "\n",
        "#             opt.step()\n",
        "\n",
        "#             train_losses.append(loss.item())\n",
        "\n",
        "#             if counter % print_every == 0:\n",
        "#                 val_h = net.init_hidden(n_seqs)\n",
        "#                 val_losses_temp = []\n",
        "#                 for x, y in get_batches(val_data, n_seqs, n_steps):\n",
        "#                     # One-hot encode our data and make them Torch tensors\n",
        "#                     x = one_hot_encode(x, n_chars)\n",
        "#                     x, y = torch.from_numpy(x), torch.from_numpy(y)\n",
        "\n",
        "#                     # Creating new variables for the hidden state, otherwise\n",
        "#                     # we'd backprop through the entire training history\n",
        "#                     val_h = tuple([each.data for each in val_h])\n",
        "\n",
        "#                     inputs, targets = x, y\n",
        "\n",
        "#                     if cuda:\n",
        "#                         inputs, targets = inputs.cuda(), targets.cuda()\n",
        "\n",
        "#                     output, val_h = net.forward(inputs, val_h)\n",
        "\n",
        "#                     val_loss = criterion(output, targets.view(n_seqs*n_steps))\n",
        "\n",
        "#                     val_losses_temp.append(val_loss.item())\n",
        "\n",
        "#                 mean_val_loss = np.mean(val_losses_temp)\n",
        "#                 val_losses.append(mean_val_loss)\n",
        "\n",
        "#                 # Вычисление перплексии\n",
        "#                 perplexity = np.exp(mean_val_loss)\n",
        "#                 perplexities.append(perplexity)\n",
        "\n",
        "#                 print(\"Epoch: {}/{}...\".format(e+1, epochs),\n",
        "#                       \"Step: {}...\".format(counter),\n",
        "#                       \"Loss: {:.4f}...\".format(loss.item()),\n",
        "#                       \"Val Loss: {:.4f}...\".format(mean_val_loss),\n",
        "#                       \"Perplexity: {:.4f}\".format(perplexity))\n",
        "\n",
        "#     # Сохранение значений для графиков\n",
        "#     return train_losses, val_losses, perplexities"
      ],
      "metadata": {
        "id": "Touor1JbjUge"
      },
      "execution_count": null,
      "outputs": []
    },
    {
      "cell_type": "code",
      "source": [
        "import os\n",
        "\n",
        "def save_checkpoint(model, optimizer, epoch, train_loss, val_loss, filepath):\n",
        "    checkpoint = {\n",
        "        'epoch': epoch,\n",
        "        'model_state_dict': model.state_dict(),\n",
        "        'optimizer_state_dict': optimizer.state_dict(),\n",
        "        'train_loss': train_loss,\n",
        "        'val_loss': val_loss\n",
        "    }\n",
        "    torch.save(checkpoint, filepath)\n",
        "\n",
        "def load_checkpoint(filepath, model, optimizer=None):\n",
        "    checkpoint = torch.load(filepath)\n",
        "    model.load_state_dict(checkpoint['model_state_dict'])\n",
        "    if optimizer:\n",
        "        optimizer.load_state_dict(checkpoint['optimizer_state_dict'])\n",
        "    return checkpoint['epoch'], checkpoint['train_loss'], checkpoint['val_loss']"
      ],
      "metadata": {
        "id": "XyKQEMVdSqI6"
      },
      "execution_count": 13,
      "outputs": []
    },
    {
      "cell_type": "code",
      "source": [
        "def train(net, data, epochs=10, n_seqs=10, n_steps=50, lr=0.001, clip=5,\n",
        "          val_frac=0.1, cuda=False, print_every=10, save_path=\"model_checkpoint.pth\"):\n",
        "    import matplotlib.pyplot as plt\n",
        "    import os\n",
        "\n",
        "    device = torch.device(\"cuda\" if cuda and torch.cuda.is_available() else \"cpu\")\n",
        "    net.to(device)\n",
        "\n",
        "    opt = torch.optim.Adam(net.parameters(), lr=lr)\n",
        "    criterion = nn.CrossEntropyLoss()\n",
        "\n",
        "    val_idx = int(len(data) * (1 - val_frac))\n",
        "    train_data, val_data = data[:val_idx], data[val_idx:]\n",
        "\n",
        "    train_losses, val_losses = [], []\n",
        "    train_perplexities, val_perplexities = [], []\n",
        "\n",
        "    try:\n",
        "        for e in range(epochs):\n",
        "            net.train()\n",
        "            h = net.init_hidden(n_seqs)\n",
        "            epoch_train_loss = 0\n",
        "            num_batches = 0\n",
        "\n",
        "            for x, y in get_batches(train_data, n_seqs, n_steps):\n",
        "                num_batches += 1\n",
        "                x = torch.from_numpy(one_hot_encode(x, len(net.chars))).to(device)\n",
        "                y = torch.from_numpy(y).to(device)\n",
        "                h = tuple([each.data for each in h])\n",
        "\n",
        "                opt.zero_grad()\n",
        "                output, h = net(x, h)\n",
        "                loss = criterion(output, y.view(n_seqs * n_steps))\n",
        "                loss.backward()\n",
        "\n",
        "                nn.utils.clip_grad_norm_(net.parameters(), clip)\n",
        "                opt.step()\n",
        "\n",
        "                epoch_train_loss += loss.item()\n",
        "\n",
        "            avg_train_loss = epoch_train_loss / num_batches\n",
        "            train_losses.append(avg_train_loss)\n",
        "            train_perplexities.append(np.exp(avg_train_loss))\n",
        "\n",
        "            # Валидация\n",
        "            net.eval()\n",
        "            val_loss = 0\n",
        "            num_val_batches = 0\n",
        "            h = net.init_hidden(n_seqs)\n",
        "            with torch.no_grad():\n",
        "                for x, y in get_batches(val_data, n_seqs, n_steps):\n",
        "                    num_val_batches += 1\n",
        "                    x = torch.from_numpy(one_hot_encode(x, len(net.chars))).to(device)\n",
        "                    y = torch.from_numpy(y).to(device)\n",
        "                    h = tuple([each.data for each in h])\n",
        "                    output, h = net(x, h)\n",
        "                    loss = criterion(output, y.view(n_seqs * n_steps))\n",
        "                    val_loss += loss.item()\n",
        "\n",
        "            avg_val_loss = val_loss / num_val_batches\n",
        "            val_losses.append(avg_val_loss)\n",
        "            val_perplexities.append(np.exp(avg_val_loss))\n",
        "\n",
        "            # Сохранение чекпоинта (перезапись файла)\n",
        "            torch.save({\n",
        "                'epoch': e + 1,\n",
        "                'model_state_dict': net.state_dict(),\n",
        "                'optimizer_state_dict': opt.state_dict(),\n",
        "                'train_loss': avg_train_loss,\n",
        "                'val_loss': avg_val_loss\n",
        "            }, save_path)\n",
        "\n",
        "            print(f\"Epoch: {e + 1}/{epochs}... \"\n",
        "                  f\"Train Loss: {avg_train_loss:.4f}... \"\n",
        "                  f\"Val Loss: {avg_val_loss:.4f}... \"\n",
        "                  f\"Train Perplexity: {train_perplexities[-1]:.4f}... \"\n",
        "                  f\"Val Perplexity: {val_perplexities[-1]:.4f}\")\n",
        "\n",
        "    except KeyboardInterrupt:\n",
        "        print(\"\\nTraining interrupted. Saving model...\")\n",
        "        # Сохранение модели в случае прерывания\n",
        "        torch.save({\n",
        "            'epoch': e + 1,\n",
        "            'model_state_dict': net.state_dict(),\n",
        "            'optimizer_state_dict': opt.state_dict(),\n",
        "            'train_loss': avg_train_loss,\n",
        "            'val_loss': avg_val_loss\n",
        "        }, save_path)\n",
        "        print(f\"Model saved to {save_path} after interruption.\")\n",
        "\n",
        "    # Построение графиков\n",
        "    plt.figure(figsize=(12, 6))\n",
        "    plt.subplot(1, 2, 1)\n",
        "    plt.plot(train_losses, label=\"Train Loss\")\n",
        "    plt.plot(val_losses, label=\"Validation Loss\")\n",
        "    plt.xlabel(\"Epochs\")\n",
        "    plt.ylabel(\"Loss\")\n",
        "    plt.title(\"Loss over epochs\")\n",
        "    plt.legend()\n",
        "    plt.grid()\n",
        "\n",
        "    plt.subplot(1, 2, 2)\n",
        "    plt.plot(train_perplexities, label=\"Train Perplexity\")\n",
        "    plt.plot(val_perplexities, label=\"Validation Perplexity\")\n",
        "    plt.xlabel(\"Epochs\")\n",
        "    plt.ylabel(\"Perplexity\")\n",
        "    plt.title(\"Perplexity over epochs\")\n",
        "    plt.legend()\n",
        "    plt.grid()\n",
        "\n",
        "    plt.tight_layout()\n",
        "    plt.show()\n",
        "\n",
        "    return train_losses, val_losses, train_perplexities, val_perplexities"
      ],
      "metadata": {
        "id": "Y6tzEYYwSI_o"
      },
      "execution_count": 15,
      "outputs": []
    },
    {
      "cell_type": "code",
      "source": [
        "if 'net' in locals():\n",
        "    del net"
      ],
      "metadata": {
        "id": "3gd3i5Yp65dZ"
      },
      "execution_count": 14,
      "outputs": []
    },
    {
      "cell_type": "code",
      "source": [
        "# define and print the net\n",
        "net = CharLSTM(chars, n_hidden=1024, n_layers=3)\n",
        "print(net)"
      ],
      "metadata": {
        "colab": {
          "base_uri": "https://localhost:8080/"
        },
        "id": "qg9IA5Jh67UJ",
        "outputId": "5ebb1514-32d0-40f6-ec29-c84787d27d5c"
      },
      "execution_count": 16,
      "outputs": [
        {
          "output_type": "stream",
          "name": "stdout",
          "text": [
            "CharLSTM(\n",
            "  (lstm): LSTM(44, 1024, num_layers=3, batch_first=True, dropout=0.5)\n",
            "  (dropout): Dropout(p=0.5, inplace=False)\n",
            "  (fc): Linear(in_features=1024, out_features=44, bias=True)\n",
            ")\n"
          ]
        }
      ]
    },
    {
      "cell_type": "code",
      "source": [
        "# check if GPU is available\n",
        "train_on_gpu = torch.cuda.is_available()\n",
        "if(train_on_gpu):\n",
        "    print('Training on GPU!')\n",
        "    cuda=True\n",
        "else:\n",
        "    print('No GPU available, training on CPU; consider making n_epochs very small.')\n",
        "    cuda=False"
      ],
      "metadata": {
        "colab": {
          "base_uri": "https://localhost:8080/"
        },
        "id": "76EnvGx66-Yo",
        "outputId": "78904365-2658-457f-fd19-ad6f3d26fe56"
      },
      "execution_count": 17,
      "outputs": [
        {
          "output_type": "stream",
          "name": "stdout",
          "text": [
            "Training on GPU!\n"
          ]
        }
      ]
    },
    {
      "cell_type": "code",
      "source": [
        "n_seqs, n_steps = 128, 100\n",
        "# TRAIN\n",
        "# train(net, encoded, epochs=25, n_seqs=n_seqs, n_steps=n_steps, lr=0.001, cuda=cuda, print_every=10)\n",
        "\n",
        "train_losses, val_losses, train_perplexities, val_perplexities = train(\n",
        "    net, encoded, epochs=25,\n",
        "    n_seqs=n_seqs, n_steps=n_steps,\n",
        "    lr=0.001, cuda=cuda, print_every=10\n",
        ")"
      ],
      "metadata": {
        "colab": {
          "base_uri": "https://localhost:8080/",
          "height": 1000
        },
        "id": "pYWPrl1j7INI",
        "outputId": "9a36372c-aa1c-45e7-cf6b-adbc2a5b1491"
      },
      "execution_count": 18,
      "outputs": [
        {
          "output_type": "stream",
          "name": "stdout",
          "text": [
            "Epoch: 1/25... Train Loss: 2.4014... Val Loss: 1.7381... Train Perplexity: 11.0389... Val Perplexity: 5.6868\n",
            "Epoch: 2/25... Train Loss: 1.6831... Val Loss: 1.4217... Train Perplexity: 5.3821... Val Perplexity: 4.1443\n",
            "Epoch: 3/25... Train Loss: 1.4552... Val Loss: 1.2787... Train Perplexity: 4.2855... Val Perplexity: 3.5919\n",
            "Epoch: 4/25... Train Loss: 1.3358... Val Loss: 1.2013... Train Perplexity: 3.8029... Val Perplexity: 3.3243\n",
            "Epoch: 5/25... Train Loss: 1.2651... Val Loss: 1.1536... Train Perplexity: 3.5434... Val Perplexity: 3.1695\n",
            "Epoch: 6/25... Train Loss: 1.2184... Val Loss: 1.1195... Train Perplexity: 3.3819... Val Perplexity: 3.0633\n",
            "Epoch: 7/25... Train Loss: 1.1816... Val Loss: 1.0970... Train Perplexity: 3.2597... Val Perplexity: 2.9951\n",
            "Epoch: 8/25... Train Loss: 1.1528... Val Loss: 1.0801... Train Perplexity: 3.1672... Val Perplexity: 2.9451\n",
            "Epoch: 9/25... Train Loss: 1.1296... Val Loss: 1.0690... Train Perplexity: 3.0944... Val Perplexity: 2.9124\n",
            "Epoch: 10/25... Train Loss: 1.1074... Val Loss: 1.0582... Train Perplexity: 3.0264... Val Perplexity: 2.8813\n",
            "Epoch: 11/25... Train Loss: 1.0889... Val Loss: 1.0483... Train Perplexity: 2.9710... Val Perplexity: 2.8529\n",
            "Epoch: 12/25... Train Loss: 1.0720... Val Loss: 1.0431... Train Perplexity: 2.9212... Val Perplexity: 2.8380\n",
            "Epoch: 13/25... Train Loss: 1.0566... Val Loss: 1.0375... Train Perplexity: 2.8767... Val Perplexity: 2.8223\n",
            "Epoch: 14/25... Train Loss: 1.0429... Val Loss: 1.0326... Train Perplexity: 2.8374... Val Perplexity: 2.8083\n",
            "Epoch: 15/25... Train Loss: 1.0303... Val Loss: 1.0295... Train Perplexity: 2.8020... Val Perplexity: 2.7996\n",
            "Epoch: 16/25... Train Loss: 1.0184... Val Loss: 1.0268... Train Perplexity: 2.7688... Val Perplexity: 2.7921\n",
            "Epoch: 17/25... Train Loss: 1.0066... Val Loss: 1.0250... Train Perplexity: 2.7362... Val Perplexity: 2.7870\n",
            "Epoch: 18/25... Train Loss: 0.9948... Val Loss: 1.0226... Train Perplexity: 2.7043... Val Perplexity: 2.7804\n",
            "Epoch: 19/25... Train Loss: 0.9842... Val Loss: 1.0246... Train Perplexity: 2.6755... Val Perplexity: 2.7860\n",
            "Epoch: 20/25... Train Loss: 0.9741... Val Loss: 1.0261... Train Perplexity: 2.6489... Val Perplexity: 2.7900\n",
            "Epoch: 21/25... Train Loss: 0.9636... Val Loss: 1.0294... Train Perplexity: 2.6212... Val Perplexity: 2.7995\n",
            "Epoch: 22/25... Train Loss: 0.9551... Val Loss: 1.0364... Train Perplexity: 2.5990... Val Perplexity: 2.8191\n",
            "Epoch: 23/25... Train Loss: 0.9469... Val Loss: 1.0358... Train Perplexity: 2.5776... Val Perplexity: 2.8175\n",
            "Epoch: 24/25... Train Loss: 0.9377... Val Loss: 1.0322... Train Perplexity: 2.5540... Val Perplexity: 2.8072\n",
            "Epoch: 25/25... Train Loss: 0.9289... Val Loss: 1.0294... Train Perplexity: 2.5318... Val Perplexity: 2.7994\n"
          ]
        },
        {
          "output_type": "display_data",
          "data": {
            "text/plain": [
              "<Figure size 1200x600 with 2 Axes>"
            ],
            "image/png": "[encoded data removed]"
          },
          "metadata": {}
        },
        {
          "output_type": "error",
          "ename": "ValueError",
          "evalue": "too many values to unpack (expected 3)",
          "traceback": [
            "\u001b[0;31m---------------------------------------------------------------------------\u001b[0m",
            "\u001b[0;31mValueError\u001b[0m                                Traceback (most recent call last)",
            "\u001b[0;32m<ipython-input-18-bf3afe979b08>\u001b[0m in \u001b[0;36m<cell line: 15>\u001b[0;34m()\u001b[0m\n\u001b[1;32m     13\u001b[0m \u001b[0;31m# import matplotlib.pyplot as plt\u001b[0m\u001b[0;34m\u001b[0m\u001b[0;34m\u001b[0m\u001b[0m\n\u001b[1;32m     14\u001b[0m \u001b[0;34m\u001b[0m\u001b[0m\n\u001b[0;32m---> 15\u001b[0;31m train_losses, val_losses, perplexities = train(net, encoded, epochs=25, \n\u001b[0m\u001b[1;32m     16\u001b[0m                                                \u001b[0mn_seqs\u001b[0m\u001b[0;34m=\u001b[0m\u001b[0mn_seqs\u001b[0m\u001b[0;34m,\u001b[0m \u001b[0mn_steps\u001b[0m\u001b[0;34m=\u001b[0m\u001b[0mn_steps\u001b[0m\u001b[0;34m,\u001b[0m\u001b[0;34m\u001b[0m\u001b[0;34m\u001b[0m\u001b[0m\n\u001b[1;32m     17\u001b[0m                                                lr=0.001, cuda=cuda, print_every=10)\n",
            "\u001b[0;31mValueError\u001b[0m: too many values to unpack (expected 3)"
          ]
        }
      ]
    },
    {
      "cell_type": "code",
      "source": [
        "# change the name, for saving multiple files\n",
        "model_name = 'LSTM_25_epoch.net'\n",
        "\n",
        "checkpoint = {'n_hidden': net.n_hidden,\n",
        "              'n_layers': net.n_layers,\n",
        "              'state_dict': net.state_dict(),\n",
        "              'tokens': net.chars}\n",
        "\n",
        "with open(model_name, 'wb') as f:\n",
        "    torch.save(checkpoint, f)"
      ],
      "metadata": {
        "id": "Wb9KonaM_2Ed"
      },
      "execution_count": 21,
      "outputs": []
    },
    {
      "cell_type": "code",
      "source": [
        "def sample(net, size, prime='поздравляю тебя', top_k=None, cuda=False):\n",
        "\n",
        "    if cuda:\n",
        "        net.cuda()\n",
        "    else:\n",
        "        net.cpu()\n",
        "\n",
        "    net.eval()\n",
        "\n",
        "    # First off, run through the prime characters\n",
        "    chars = [ch for ch in prime]\n",
        "    h = net.init_hidden(1)\n",
        "    for ch in prime:\n",
        "        char, h = net.predict(ch, h, cuda=cuda, top_k=top_k)\n",
        "\n",
        "    chars.append(char)\n",
        "\n",
        "    # Now pass in the previous character and get a new one\n",
        "    for ii in range(size):\n",
        "        char, h = net.predict(chars[-1], h, cuda=cuda, top_k=top_k)\n",
        "        chars.append(char)\n",
        "\n",
        "    return ''.join(chars)"
      ],
      "metadata": {
        "id": "PbfJ010qK4ga"
      },
      "execution_count": 22,
      "outputs": []
    },
    {
      "cell_type": "code",
      "source": [
        "print(sample(net, 100, prime='поздравляю', top_k=5, cuda=cuda))"
      ],
      "metadata": {
        "colab": {
          "base_uri": "https://localhost:8080/"
        },
        "id": "uF0qw9ADLWCT",
        "outputId": "03e11136-9929-4bfc-a02b-c7dfb4e61f0c"
      },
      "execution_count": 23,
      "outputs": [
        {
          "output_type": "stream",
          "name": "stdout",
          "text": [
            "поздравляю тебя поздравляю в твой день рождения желаю тебе сыночек счастья и доброты пожелаю сестра мои счастья\n"
          ]
        }
      ]
    },
    {
      "cell_type": "code",
      "source": [
        "print(sample(net, 100, prime='дочка', top_k=5, cuda=cuda))"
      ],
      "metadata": {
        "colab": {
          "base_uri": "https://localhost:8080/"
        },
        "id": "WXeQoLKsODWo",
        "outputId": "87bd26eb-8c01-4ab3-826c-292d74d564fe"
      },
      "execution_count": 25,
      "outputs": [
        {
          "output_type": "stream",
          "name": "stdout",
          "text": [
            "дочка свой талантливый камин в нем счастья всегда про новостей подарит в дом всего долголетья поздравленья\n"
          ]
        }
      ]
    },
    {
      "cell_type": "code",
      "source": [
        "print(sample(net, 120, prime='любимая мама', top_k=5, cuda=cuda))"
      ],
      "metadata": {
        "colab": {
          "base_uri": "https://localhost:8080/"
        },
        "id": "1BuNGTfQSCzA",
        "outputId": "629768fd-4d70-4531-e33d-223b204507eb"
      },
      "execution_count": 26,
      "outputs": [
        {
          "output_type": "stream",
          "name": "stdout",
          "text": [
            "любимая мама моя тебя мы праздник твой день рожденья пожелаю вам совсем не поставить что бы счастье петь со столетьем поздравляю тебя\n"
          ]
        }
      ]
    },
    {
      "cell_type": "code",
      "source": [
        "print(sample(net, 100, prime='с днем рождения пусть в жизни будут', top_k=4, cuda=cuda))"
      ],
      "metadata": {
        "colab": {
          "base_uri": "https://localhost:8080/"
        },
        "id": "TiN6J9Og1gsj",
        "outputId": "58781449-6292-4701-ed76-7a4703c40248"
      },
      "execution_count": 65,
      "outputs": [
        {
          "output_type": "stream",
          "name": "stdout",
          "text": [
            "с днем рождения пусть в жизни будут рядом всегда близкие люди и пусть везёт на столетье подарить тебе подарок с днем рождения тебя моя д\n"
          ]
        }
      ]
    },
    {
      "cell_type": "code",
      "source": [
        "print(sample(net, 120, prime='доченька', top_k=5, cuda=cuda))"
      ],
      "metadata": {
        "colab": {
          "base_uri": "https://localhost:8080/"
        },
        "id": "HjtMF-B21Np4",
        "outputId": "f35bb7ff-47b3-40eb-bc61-bf64088bf4e1"
      },
      "execution_count": 62,
      "outputs": [
        {
          "output_type": "stream",
          "name": "stdout",
          "text": [
            "доченька ты подруженька моя ты мамочка мама милая с днем рождения тебя и поддержку вашего счастья и всей семьи спасибо тебе наш м\n"
          ]
        }
      ]
    },
    {
      "cell_type": "code",
      "source": [
        "print(sample(net, 150, prime='50', top_k=5, cuda=cuda))"
      ],
      "metadata": {
        "colab": {
          "base_uri": "https://localhost:8080/"
        },
        "id": "XdNYpJk9SUvW",
        "outputId": "47fb7427-e8d8-4cc5-daa3-c95d4554d590"
      },
      "execution_count": 27,
      "outputs": [
        {
          "output_type": "stream",
          "name": "stdout",
          "text": [
            "50 ты созаришься мой дорогой пусть будет то что задумала сбывается получайте всё что захочешь  сестра моя сегодня день рожденья в день рожденье свой сего\n"
          ]
        }
      ]
    },
    {
      "cell_type": "code",
      "source": [
        "sample(net, 150, prime='50', top_k=5, cuda=cuda)"
      ],
      "metadata": {
        "colab": {
          "base_uri": "https://localhost:8080/",
          "height": 53
        },
        "id": "McS8esg3TOwr",
        "outputId": "133abbb9-6529-4e20-99c1-1ebd2d0c8cd7"
      },
      "execution_count": 28,
      "outputs": [
        {
          "output_type": "execute_result",
          "data": {
            "text/plain": [
              "'50 ты моя родная для меня ты моя милая подруга я сегодня хочу тебе сегодня пожелать чтобы тебя отец не стоится но с тридцать пятым днем рожденья поздравл'"
            ],
            "application/vnd.google.colaboratory.intrinsic+json": {
              "type": "string"
            }
          },
          "metadata": {},
          "execution_count": 28
        }
      ]
    },
    {
      "cell_type": "code",
      "source": [
        "sample(net, 150, prime='сегодня тебе ', top_k=5, cuda=cuda)"
      ],
      "metadata": {
        "colab": {
          "base_uri": "https://localhost:8080/",
          "height": 53
        },
        "id": "hs0xv9P1TcNm",
        "outputId": "676288a0-7817-4118-89f3-d5cffc3c778e"
      },
      "execution_count": 29,
      "outputs": [
        {
          "output_type": "execute_result",
          "data": {
            "text/plain": [
              "'сегодня тебе счастливым быть желаю  пусть всёгда хорошим будет настроенье не покидает никогда во всем поздравляю дружим славно мы тебя сейчас сердцем ты стал совсем'"
            ],
            "application/vnd.google.colaboratory.intrinsic+json": {
              "type": "string"
            }
          },
          "metadata": {},
          "execution_count": 29
        }
      ]
    },
    {
      "cell_type": "code",
      "source": [
        "sample(net, 150, prime='поздравляю с днем рождения и желаю', top_k=5, cuda=cuda)"
      ],
      "metadata": {
        "colab": {
          "base_uri": "https://localhost:8080/",
          "height": 53
        },
        "id": "hp0VT6S-ThCJ",
        "outputId": "99fe3f4f-06ee-4738-f1ff-e41a8dc801fa"
      },
      "execution_count": 30,
      "outputs": [
        {
          "output_type": "execute_result",
          "data": {
            "text/plain": [
              "'поздравляю с днем рождения и желаю тебе всего такого же тебе побольше сил большого счастья с днем рожденья поздравляю такой красивой очень девичка восемьдесят лет поздравляю с днем рожд'"
            ],
            "application/vnd.google.colaboratory.intrinsic+json": {
              "type": "string"
            }
          },
          "metadata": {},
          "execution_count": 30
        }
      ]
    },
    {
      "cell_type": "code",
      "source": [
        "sample(net, 150, top_k=3, cuda=cuda)"
      ],
      "metadata": {
        "colab": {
          "base_uri": "https://localhost:8080/",
          "height": 53
        },
        "id": "KsHwomYVT5tB",
        "outputId": "9c2f55f9-0b44-4a0a-c87b-c1ad0d20cf64"
      },
      "execution_count": 32,
      "outputs": [
        {
          "output_type": "execute_result",
          "data": {
            "text/plain": [
              "'поздравляю тебя с днем рожденья пожелаю с днем рождения сынок с днем рождения тебя моя дочка поздравляю я тебя с твоим днем рожденья и хочу пожелать тебе в прекрасный'"
            ],
            "application/vnd.google.colaboratory.intrinsic+json": {
              "type": "string"
            }
          },
          "metadata": {},
          "execution_count": 32
        }
      ]
    },
    {
      "cell_type": "code",
      "source": [
        "sample(net, 150, top_k=2, cuda=cuda)"
      ],
      "metadata": {
        "colab": {
          "base_uri": "https://localhost:8080/",
          "height": 53
        },
        "id": "incSGr_rXBsq",
        "outputId": "51fcbca9-6175-414a-e6e2-84f25e1d2c30"
      },
      "execution_count": 33,
      "outputs": [
        {
          "output_type": "execute_result",
          "data": {
            "text/plain": [
              "'поздравляю тебя с днем рождения я хочу пожелать тебе чтобы твоя жизнь была счастливой чтобы твоя жизнь была счастливой чтоб сбывались все мечты твои мгновенно и не см'"
            ],
            "application/vnd.google.colaboratory.intrinsic+json": {
              "type": "string"
            }
          },
          "metadata": {},
          "execution_count": 33
        }
      ]
    },
    {
      "cell_type": "code",
      "source": [
        "sample(net, 150, top_k=7, cuda=cuda)"
      ],
      "metadata": {
        "colab": {
          "base_uri": "https://localhost:8080/",
          "height": 53
        },
        "id": "357Uo_J8XEBY",
        "outputId": "3343110c-d5a4-4431-8146-dfa6fc71ccd3"
      },
      "execution_count": 34,
      "outputs": [
        {
          "output_type": "execute_result",
          "data": {
            "text/plain": [
              "'поздравляю тебя с днем рождения и желаю тебе тебе я счастья в судьбе пусть всё сбудется и что наступило и дальше жизни стучит сорок пять все твои в день рожденья с ве'"
            ],
            "application/vnd.google.colaboratory.intrinsic+json": {
              "type": "string"
            }
          },
          "metadata": {},
          "execution_count": 34
        }
      ]
    },
    {
      "cell_type": "code",
      "source": [
        "sample(net, 150, top_k=6, cuda=cuda)"
      ],
      "metadata": {
        "colab": {
          "base_uri": "https://localhost:8080/",
          "height": 53
        },
        "id": "j3LVeUK8XJVu",
        "outputId": "d861ef77-5d10-400f-a2ea-fdc614422fbf"
      },
      "execution_count": 35,
      "outputs": [
        {
          "output_type": "execute_result",
          "data": {
            "text/plain": [
              "'поздравляю тебя дочка с днем рожденья пусть печали стороной тебя обходят пусть всегда счастливой будет жизнь твоя от души я поздравляю с днем рожденья пусть будет мно'"
            ],
            "application/vnd.google.colaboratory.intrinsic+json": {
              "type": "string"
            }
          },
          "metadata": {},
          "execution_count": 35
        }
      ]
    },
    {
      "cell_type": "code",
      "source": [
        "# Here we have loaded in a model that trained\n",
        "with open('/content/LSTM_25_epoch.net', 'rb') as f:\n",
        "    checkpoint = torch.load(f)\n",
        "\n",
        "loaded = CharLSTM(checkpoint['tokens'], n_hidden=checkpoint['n_hidden'], n_layers=checkpoint['n_layers'])\n",
        "loaded.load_state_dict(checkpoint['state_dict'])"
      ],
      "metadata": {
        "colab": {
          "base_uri": "https://localhost:8080/"
        },
        "id": "tRL_wc20Lh3Z",
        "outputId": "54ae1fda-4434-40ee-a37f-456f339729e7"
      },
      "execution_count": 37,
      "outputs": [
        {
          "output_type": "execute_result",
          "data": {
            "text/plain": [
              "<All keys matched successfully>"
            ]
          },
          "metadata": {},
          "execution_count": 37
        }
      ]
    },
    {
      "cell_type": "code",
      "source": [
        "sample(loaded, 150, prime=\"поздравляю с днем рождения и желаю счастья\", top_k=3, cuda=cuda)"
      ],
      "metadata": {
        "colab": {
          "base_uri": "https://localhost:8080/",
          "height": 53
        },
        "id": "JlXLTemex6tU",
        "outputId": "00292af8-e293-48fd-9ea5-7f60543960e5"
      },
      "execution_count": 41,
      "outputs": [
        {
          "output_type": "execute_result",
          "data": {
            "text/plain": [
              "'поздравляю с днем рождения и желаю счастья в жизни без прошлого пусть сбываются мечты ты счастливым будь ты в этом мире человек проживи всегда на свете никогда не унывай и никогда ты встречай н'"
            ],
            "application/vnd.google.colaboratory.intrinsic+json": {
              "type": "string"
            }
          },
          "metadata": {},
          "execution_count": 41
        }
      ]
    },
    {
      "cell_type": "code",
      "source": [
        "sample(loaded, 150, prime=\"поздравляю с днем рождения и желаю счастья\", top_k=3, cuda=cuda)"
      ],
      "metadata": {
        "colab": {
          "base_uri": "https://localhost:8080/",
          "height": 53
        },
        "id": "feVquxJGyNNd",
        "outputId": "ef8dfcf4-04ea-4f18-d5f5-9f4384d44b23"
      },
      "execution_count": 42,
      "outputs": [
        {
          "output_type": "execute_result",
          "data": {
            "text/plain": [
              "'поздравляю с днем рождения и желаю счастья много долголетья исполненья всех твоих желаний и не предадут и никак быстро принесла в день рождения тебе пожелаем сил здоровья чтоб счастья и любви п'"
            ],
            "application/vnd.google.colaboratory.intrinsic+json": {
              "type": "string"
            }
          },
          "metadata": {},
          "execution_count": 42
        }
      ]
    },
    {
      "cell_type": "code",
      "source": [
        "from torchviz import make_dot\n",
        "\n",
        "# Создаем входной тензор и начальное состояние скрытых слоев\n",
        "input_tensor = torch.zeros(1, len(net.chars)).cuda()  # Перемещаем input_tensor на GPU\n",
        "hc = net.init_hidden(1)  # Инициализируем скрытое состояние\n",
        "hc = (hc[0].squeeze(1), hc[1].squeeze(1))  # Преобразуем hc в 2-D\n",
        "\n",
        "# Генерируем граф вычислений, выбирая только выходные данные\n",
        "output, _ = net(input_tensor, hc)  # Выбираем только выходные данные\n",
        "dot = make_dot(output, params=dict(net.named_parameters()))  # Передаем output в make_dot\n",
        "\n",
        "# Сохраняем граф в файл (например, model.png)\n",
        "dot.render(\"model\", format=\"png\")"
      ],
      "metadata": {
        "colab": {
          "base_uri": "https://localhost:8080/",
          "height": 35
        },
        "id": "uAm-k-560L64",
        "outputId": "a754cb8d-2f09-4e1c-e1d2-7b4cb2121644"
      },
      "execution_count": 60,
      "outputs": [
        {
          "output_type": "execute_result",
          "data": {
            "text/plain": [
              "'model.png'"
            ],
            "application/vnd.google.colaboratory.intrinsic+json": {
              "type": "string"
            }
          },
          "metadata": {},
          "execution_count": 60
        }
      ]
    }
  ],
  "metadata": {
    "accelerator": "GPU",
    "colab": {
      "collapsed_sections": [
        "H8zSDjlpKbcG",
        "nNqU85GQKm0m",
        "w1MJWhp9Ke_5",
        "RCh-30d5LMX1",
        "PWdeppVhK6av"
      ],
      "gpuType": "T4",
      "provenance": [],
      "include_colab_link": true
    },
    "kernelspec": {
      "display_name": "Python 3",
      "name": "python3"
    },
    "language_info": {
      "name": "python"
    }
  },
  "nbformat": 4,
  "nbformat_minor": 0
}